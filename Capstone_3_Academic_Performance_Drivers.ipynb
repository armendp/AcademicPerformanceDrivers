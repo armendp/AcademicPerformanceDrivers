{
  "nbformat": 4,
  "nbformat_minor": 0,
  "metadata": {
    "colab": {
      "name": "Capstone 3: Academic Performance Drivers",
      "provenance": [],
      "authorship_tag": "ABX9TyNLDLMVaRCNgxiI/wOy+Rsu",
      "include_colab_link": true
    },
    "kernelspec": {
      "name": "python3",
      "display_name": "Python 3"
    },
    "language_info": {
      "name": "python"
    }
  },
  "cells": [
    {
      "cell_type": "markdown",
      "metadata": {
        "id": "view-in-github",
        "colab_type": "text"
      },
      "source": [
        "<a href=\"https://colab.research.google.com/github/armendp/AcademicPerformanceDrivers/blob/main/Capstone_3_Academic_Performance_Drivers.ipynb\" target=\"_parent\"><img src=\"https://colab.research.google.com/assets/colab-badge.svg\" alt=\"Open In Colab\"/></a>"
      ]
    },
    {
      "cell_type": "markdown",
      "metadata": {
        "id": "BtjQX1fJ_muG"
      },
      "source": [
        "# Capstone 3: Academic Performance Drivers\n",
        "\n",
        "Goal: To find key metrics that can be used to predict student academic performance to help parents, teachers and businesses make better decisions and investments regarding education"
      ]
    },
    {
      "cell_type": "markdown",
      "metadata": {
        "id": "nGZtylLXraUX"
      },
      "source": [
        "# Importing Data and Modules"
      ]
    },
    {
      "cell_type": "code",
      "metadata": {
        "colab": {
          "base_uri": "https://localhost:8080/"
        },
        "id": "ztYYjR0xblmL",
        "outputId": "1d16967b-d51d-4be1-ffa2-1cadaea3284f"
      },
      "source": [
        "# Mounted my google drive into google colab\n",
        "from google.colab import drive\n",
        "drive.mount('/content/gdrive')"
      ],
      "execution_count": null,
      "outputs": [
        {
          "output_type": "stream",
          "text": [
            "Mounted at /content/gdrive\n"
          ],
          "name": "stdout"
        }
      ]
    },
    {
      "cell_type": "code",
      "metadata": {
        "id": "KOruxu--cC2S"
      },
      "source": [
        "# Imports pandas, numpy, stats\n",
        "import pandas as pd\n",
        "import numpy as np\n",
        "import seaborn as sns\n",
        "from scipy import stats\n",
        "\n",
        "# Reads csv file from drive and assigns it to variable df\n",
        "df = pd.read_csv('/content/gdrive/My Drive/Capstone 3- Student Performance/student_data_raw.csv', delimiter=\";\")"
      ],
      "execution_count": null,
      "outputs": []
    },
    {
      "cell_type": "markdown",
      "metadata": {
        "id": "YjN_1s5IrfQy"
      },
      "source": [
        "# Data Summary"
      ]
    },
    {
      "cell_type": "code",
      "metadata": {
        "colab": {
          "base_uri": "https://localhost:8080/"
        },
        "id": "G53lqJluxjJD",
        "outputId": "141afed1-dba4-47d5-c0a8-c344f670cd6a"
      },
      "source": [
        "# Gives the shape of the DataFrame\n",
        "df.shape"
      ],
      "execution_count": null,
      "outputs": [
        {
          "output_type": "execute_result",
          "data": {
            "text/plain": [
              "(395, 33)"
            ]
          },
          "metadata": {
            "tags": []
          },
          "execution_count": 4
        }
      ]
    },
    {
      "cell_type": "code",
      "metadata": {
        "colab": {
          "base_uri": "https://localhost:8080/"
        },
        "id": "Zz2PEjuGsrrC",
        "outputId": "a411217f-f078-419a-8e5e-8ef585b829c2"
      },
      "source": [
        "# Gives general info of the columns in the DataFrame- no nulls in our dataset\n",
        "df.info()"
      ],
      "execution_count": null,
      "outputs": [
        {
          "output_type": "stream",
          "text": [
            "<class 'pandas.core.frame.DataFrame'>\n",
            "RangeIndex: 395 entries, 0 to 394\n",
            "Data columns (total 33 columns):\n",
            " #   Column      Non-Null Count  Dtype \n",
            "---  ------      --------------  ----- \n",
            " 0   school      395 non-null    object\n",
            " 1   sex         395 non-null    object\n",
            " 2   age         395 non-null    int64 \n",
            " 3   address     395 non-null    object\n",
            " 4   famsize     395 non-null    object\n",
            " 5   Pstatus     395 non-null    object\n",
            " 6   Medu        395 non-null    int64 \n",
            " 7   Fedu        395 non-null    int64 \n",
            " 8   Mjob        395 non-null    object\n",
            " 9   Fjob        395 non-null    object\n",
            " 10  reason      395 non-null    object\n",
            " 11  guardian    395 non-null    object\n",
            " 12  traveltime  395 non-null    int64 \n",
            " 13  studytime   395 non-null    int64 \n",
            " 14  failures    395 non-null    int64 \n",
            " 15  schoolsup   395 non-null    object\n",
            " 16  famsup      395 non-null    object\n",
            " 17  paid        395 non-null    object\n",
            " 18  activities  395 non-null    object\n",
            " 19  nursery     395 non-null    object\n",
            " 20  higher      395 non-null    object\n",
            " 21  internet    395 non-null    object\n",
            " 22  romantic    395 non-null    object\n",
            " 23  famrel      395 non-null    int64 \n",
            " 24  freetime    395 non-null    int64 \n",
            " 25  goout       395 non-null    int64 \n",
            " 26  Dalc        395 non-null    int64 \n",
            " 27  Walc        395 non-null    int64 \n",
            " 28  health      395 non-null    int64 \n",
            " 29  absences    395 non-null    int64 \n",
            " 30  G1          395 non-null    int64 \n",
            " 31  G2          395 non-null    int64 \n",
            " 32  G3          395 non-null    int64 \n",
            "dtypes: int64(16), object(17)\n",
            "memory usage: 102.0+ KB\n"
          ],
          "name": "stdout"
        }
      ]
    },
    {
      "cell_type": "code",
      "metadata": {
        "colab": {
          "base_uri": "https://localhost:8080/",
          "height": 224
        },
        "id": "zbIgsvM8dBYU",
        "outputId": "68d4bf07-dcd9-4c29-efe1-45952308640a"
      },
      "source": [
        "# First five rows of the DataFrame\n",
        "df.head()"
      ],
      "execution_count": null,
      "outputs": [
        {
          "output_type": "execute_result",
          "data": {
            "text/html": [
              "<div>\n",
              "<style scoped>\n",
              "    .dataframe tbody tr th:only-of-type {\n",
              "        vertical-align: middle;\n",
              "    }\n",
              "\n",
              "    .dataframe tbody tr th {\n",
              "        vertical-align: top;\n",
              "    }\n",
              "\n",
              "    .dataframe thead th {\n",
              "        text-align: right;\n",
              "    }\n",
              "</style>\n",
              "<table border=\"1\" class=\"dataframe\">\n",
              "  <thead>\n",
              "    <tr style=\"text-align: right;\">\n",
              "      <th></th>\n",
              "      <th>school</th>\n",
              "      <th>sex</th>\n",
              "      <th>age</th>\n",
              "      <th>address</th>\n",
              "      <th>famsize</th>\n",
              "      <th>Pstatus</th>\n",
              "      <th>Medu</th>\n",
              "      <th>Fedu</th>\n",
              "      <th>Mjob</th>\n",
              "      <th>Fjob</th>\n",
              "      <th>reason</th>\n",
              "      <th>guardian</th>\n",
              "      <th>traveltime</th>\n",
              "      <th>studytime</th>\n",
              "      <th>failures</th>\n",
              "      <th>schoolsup</th>\n",
              "      <th>famsup</th>\n",
              "      <th>paid</th>\n",
              "      <th>activities</th>\n",
              "      <th>nursery</th>\n",
              "      <th>higher</th>\n",
              "      <th>internet</th>\n",
              "      <th>romantic</th>\n",
              "      <th>famrel</th>\n",
              "      <th>freetime</th>\n",
              "      <th>goout</th>\n",
              "      <th>Dalc</th>\n",
              "      <th>Walc</th>\n",
              "      <th>health</th>\n",
              "      <th>absences</th>\n",
              "      <th>G1</th>\n",
              "      <th>G2</th>\n",
              "      <th>G3</th>\n",
              "    </tr>\n",
              "  </thead>\n",
              "  <tbody>\n",
              "    <tr>\n",
              "      <th>0</th>\n",
              "      <td>GP</td>\n",
              "      <td>F</td>\n",
              "      <td>18</td>\n",
              "      <td>U</td>\n",
              "      <td>GT3</td>\n",
              "      <td>A</td>\n",
              "      <td>4</td>\n",
              "      <td>4</td>\n",
              "      <td>at_home</td>\n",
              "      <td>teacher</td>\n",
              "      <td>course</td>\n",
              "      <td>mother</td>\n",
              "      <td>2</td>\n",
              "      <td>2</td>\n",
              "      <td>0</td>\n",
              "      <td>yes</td>\n",
              "      <td>no</td>\n",
              "      <td>no</td>\n",
              "      <td>no</td>\n",
              "      <td>yes</td>\n",
              "      <td>yes</td>\n",
              "      <td>no</td>\n",
              "      <td>no</td>\n",
              "      <td>4</td>\n",
              "      <td>3</td>\n",
              "      <td>4</td>\n",
              "      <td>1</td>\n",
              "      <td>1</td>\n",
              "      <td>3</td>\n",
              "      <td>6</td>\n",
              "      <td>5</td>\n",
              "      <td>6</td>\n",
              "      <td>6</td>\n",
              "    </tr>\n",
              "    <tr>\n",
              "      <th>1</th>\n",
              "      <td>GP</td>\n",
              "      <td>F</td>\n",
              "      <td>17</td>\n",
              "      <td>U</td>\n",
              "      <td>GT3</td>\n",
              "      <td>T</td>\n",
              "      <td>1</td>\n",
              "      <td>1</td>\n",
              "      <td>at_home</td>\n",
              "      <td>other</td>\n",
              "      <td>course</td>\n",
              "      <td>father</td>\n",
              "      <td>1</td>\n",
              "      <td>2</td>\n",
              "      <td>0</td>\n",
              "      <td>no</td>\n",
              "      <td>yes</td>\n",
              "      <td>no</td>\n",
              "      <td>no</td>\n",
              "      <td>no</td>\n",
              "      <td>yes</td>\n",
              "      <td>yes</td>\n",
              "      <td>no</td>\n",
              "      <td>5</td>\n",
              "      <td>3</td>\n",
              "      <td>3</td>\n",
              "      <td>1</td>\n",
              "      <td>1</td>\n",
              "      <td>3</td>\n",
              "      <td>4</td>\n",
              "      <td>5</td>\n",
              "      <td>5</td>\n",
              "      <td>6</td>\n",
              "    </tr>\n",
              "    <tr>\n",
              "      <th>2</th>\n",
              "      <td>GP</td>\n",
              "      <td>F</td>\n",
              "      <td>15</td>\n",
              "      <td>U</td>\n",
              "      <td>LE3</td>\n",
              "      <td>T</td>\n",
              "      <td>1</td>\n",
              "      <td>1</td>\n",
              "      <td>at_home</td>\n",
              "      <td>other</td>\n",
              "      <td>other</td>\n",
              "      <td>mother</td>\n",
              "      <td>1</td>\n",
              "      <td>2</td>\n",
              "      <td>3</td>\n",
              "      <td>yes</td>\n",
              "      <td>no</td>\n",
              "      <td>yes</td>\n",
              "      <td>no</td>\n",
              "      <td>yes</td>\n",
              "      <td>yes</td>\n",
              "      <td>yes</td>\n",
              "      <td>no</td>\n",
              "      <td>4</td>\n",
              "      <td>3</td>\n",
              "      <td>2</td>\n",
              "      <td>2</td>\n",
              "      <td>3</td>\n",
              "      <td>3</td>\n",
              "      <td>10</td>\n",
              "      <td>7</td>\n",
              "      <td>8</td>\n",
              "      <td>10</td>\n",
              "    </tr>\n",
              "    <tr>\n",
              "      <th>3</th>\n",
              "      <td>GP</td>\n",
              "      <td>F</td>\n",
              "      <td>15</td>\n",
              "      <td>U</td>\n",
              "      <td>GT3</td>\n",
              "      <td>T</td>\n",
              "      <td>4</td>\n",
              "      <td>2</td>\n",
              "      <td>health</td>\n",
              "      <td>services</td>\n",
              "      <td>home</td>\n",
              "      <td>mother</td>\n",
              "      <td>1</td>\n",
              "      <td>3</td>\n",
              "      <td>0</td>\n",
              "      <td>no</td>\n",
              "      <td>yes</td>\n",
              "      <td>yes</td>\n",
              "      <td>yes</td>\n",
              "      <td>yes</td>\n",
              "      <td>yes</td>\n",
              "      <td>yes</td>\n",
              "      <td>yes</td>\n",
              "      <td>3</td>\n",
              "      <td>2</td>\n",
              "      <td>2</td>\n",
              "      <td>1</td>\n",
              "      <td>1</td>\n",
              "      <td>5</td>\n",
              "      <td>2</td>\n",
              "      <td>15</td>\n",
              "      <td>14</td>\n",
              "      <td>15</td>\n",
              "    </tr>\n",
              "    <tr>\n",
              "      <th>4</th>\n",
              "      <td>GP</td>\n",
              "      <td>F</td>\n",
              "      <td>16</td>\n",
              "      <td>U</td>\n",
              "      <td>GT3</td>\n",
              "      <td>T</td>\n",
              "      <td>3</td>\n",
              "      <td>3</td>\n",
              "      <td>other</td>\n",
              "      <td>other</td>\n",
              "      <td>home</td>\n",
              "      <td>father</td>\n",
              "      <td>1</td>\n",
              "      <td>2</td>\n",
              "      <td>0</td>\n",
              "      <td>no</td>\n",
              "      <td>yes</td>\n",
              "      <td>yes</td>\n",
              "      <td>no</td>\n",
              "      <td>yes</td>\n",
              "      <td>yes</td>\n",
              "      <td>no</td>\n",
              "      <td>no</td>\n",
              "      <td>4</td>\n",
              "      <td>3</td>\n",
              "      <td>2</td>\n",
              "      <td>1</td>\n",
              "      <td>2</td>\n",
              "      <td>5</td>\n",
              "      <td>4</td>\n",
              "      <td>6</td>\n",
              "      <td>10</td>\n",
              "      <td>10</td>\n",
              "    </tr>\n",
              "  </tbody>\n",
              "</table>\n",
              "</div>"
            ],
            "text/plain": [
              "  school sex  age address famsize Pstatus  ...  Walc  health absences  G1  G2  G3\n",
              "0     GP   F   18       U     GT3       A  ...     1       3        6   5   6   6\n",
              "1     GP   F   17       U     GT3       T  ...     1       3        4   5   5   6\n",
              "2     GP   F   15       U     LE3       T  ...     3       3       10   7   8  10\n",
              "3     GP   F   15       U     GT3       T  ...     1       5        2  15  14  15\n",
              "4     GP   F   16       U     GT3       T  ...     2       5        4   6  10  10\n",
              "\n",
              "[5 rows x 33 columns]"
            ]
          },
          "metadata": {
            "tags": []
          },
          "execution_count": 6
        }
      ]
    },
    {
      "cell_type": "code",
      "metadata": {
        "colab": {
          "base_uri": "https://localhost:8080/"
        },
        "id": "6dBfFsrGdkl8",
        "outputId": "1605153f-f69a-474a-f272-d951383f110e"
      },
      "source": [
        "# Gives summary statistics of student grades\n",
        "df['G3'].describe()"
      ],
      "execution_count": null,
      "outputs": [
        {
          "output_type": "execute_result",
          "data": {
            "text/plain": [
              "count    395.000000\n",
              "mean      10.415190\n",
              "std        4.581443\n",
              "min        0.000000\n",
              "25%        8.000000\n",
              "50%       11.000000\n",
              "75%       14.000000\n",
              "max       20.000000\n",
              "Name: G3, dtype: float64"
            ]
          },
          "metadata": {
            "tags": []
          },
          "execution_count": 7
        }
      ]
    },
    {
      "cell_type": "markdown",
      "metadata": {
        "id": "KzP7XqUu29hI"
      },
      "source": [
        "**Final grades are labeled as G3 and are on a sliding scale of 0-20**"
      ]
    },
    {
      "cell_type": "code",
      "metadata": {
        "colab": {
          "base_uri": "https://localhost:8080/",
          "height": 369
        },
        "id": "TgXhiB0tqWw2",
        "outputId": "71ea0258-02ae-40ce-f4d6-0c34e77f0daf"
      },
      "source": [
        "# Vizualizes the grades using a histogram- data is normally distributed\n",
        "ax = sns.displot(df['G3'])"
      ],
      "execution_count": null,
      "outputs": [
        {
          "output_type": "display_data",
          "data": {
            "image/png": "[encoded data removed]",
            "text/plain": [
              "<Figure size 360x360 with 1 Axes>"
            ]
          },
          "metadata": {
            "tags": [],
            "needs_background": "light"
          }
        }
      ]
    },
    {
      "cell_type": "markdown",
      "metadata": {
        "id": "a4S_pxe1trE4"
      },
      "source": [
        "# Hypothesis Test #1:\n",
        "\n",
        "H0: There is no difference in academic performance between students with at least one parent with higher education and students with no parents with higher education.\n",
        "\n",
        "H1: Students with at least one parent with higher education perform better than students with no parents with higher education.\n",
        "\n",
        " \n",
        "Significance Level: .05\n",
        "\n",
        "Test Statistic: 1.96\n"
      ]
    },
    {
      "cell_type": "markdown",
      "metadata": {
        "id": "P0V3i91Y34Ma"
      },
      "source": [
        "**EDUCATION SCALE**\n",
        "\n",
        "Education levels are on a scale of 0-4\n",
        "\n",
        "0- No education\n",
        "\n",
        "1- Primary education (up to 4th grade)\n",
        "\n",
        "2- 5th to 9th grade\n",
        "\n",
        "3- Secondary education (up to 12th grade)\n",
        "\n",
        "4- Higher Education"
      ]
    },
    {
      "cell_type": "code",
      "metadata": {
        "colab": {
          "base_uri": "https://localhost:8080/",
          "height": 386
        },
        "id": "5CWzxbQIw8Yv",
        "outputId": "224d2e0d-3d5b-4fe0-db8e-502b67d0b28d"
      },
      "source": [
        "# Creates a new column in the DataFrame with the combined parent education levels\n",
        "df['combined_parent_education'] = df['Medu'] + df['Fedu']\n",
        "\n",
        "# Visualize the distribution of parent education levels\n",
        "sns.displot(df['combined_parent_education'], bins = 8)"
      ],
      "execution_count": null,
      "outputs": [
        {
          "output_type": "execute_result",
          "data": {
            "text/plain": [
              "<seaborn.axisgrid.FacetGrid at 0x7f08b7846dd0>"
            ]
          },
          "metadata": {
            "tags": []
          },
          "execution_count": 9
        },
        {
          "output_type": "display_data",
          "data": {
            "image/png": "[encoded data removed]",
            "text/plain": [
              "<Figure size 360x360 with 1 Axes>"
            ]
          },
          "metadata": {
            "tags": [],
            "needs_background": "light"
          }
        }
      ]
    },
    {
      "cell_type": "code",
      "metadata": {
        "colab": {
          "base_uri": "https://localhost:8080/",
          "height": 297
        },
        "id": "8xroMA6Ar6Cu",
        "outputId": "0407d67b-103e-44da-ba53-44b087cc4242"
      },
      "source": [
        "# Visualizaes the student grades using a boxplot based on combined parent education levels\n",
        "sns.boxplot(y = 'G3', x = 'combined_parent_education', data = df )\n"
      ],
      "execution_count": null,
      "outputs": [
        {
          "output_type": "execute_result",
          "data": {
            "text/plain": [
              "<matplotlib.axes._subplots.AxesSubplot at 0x7f08c12e1990>"
            ]
          },
          "metadata": {
            "tags": []
          },
          "execution_count": 10
        },
        {
          "output_type": "display_data",
          "data": {
            "image/png": "[encoded data removed]",
            "text/plain": [
              "<Figure size 432x288 with 1 Axes>"
            ]
          },
          "metadata": {
            "tags": [],
            "needs_background": "light"
          }
        }
      ]
    },
    {
      "cell_type": "code",
      "metadata": {
        "colab": {
          "base_uri": "https://localhost:8080/",
          "height": 297
        },
        "id": "MwoqKKNk5a9N",
        "outputId": "bcd28b41-fb1e-4b2c-97f7-d582a9bcbfa6"
      },
      "source": [
        "# Visualizaes the student grades using a lineplot based on combined parent education levels\n",
        "\n",
        "sns.lineplot(x = 'combined_parent_education', y = 'G3', data = df)"
      ],
      "execution_count": null,
      "outputs": [
        {
          "output_type": "execute_result",
          "data": {
            "text/plain": [
              "<matplotlib.axes._subplots.AxesSubplot at 0x7f08b71f9690>"
            ]
          },
          "metadata": {
            "tags": []
          },
          "execution_count": 11
        },
        {
          "output_type": "display_data",
          "data": {
            "image/png": "[encoded data removed]",
            "text/plain": [
              "<Figure size 432x288 with 1 Axes>"
            ]
          },
          "metadata": {
            "tags": [],
            "needs_background": "light"
          }
        }
      ]
    },
    {
      "cell_type": "markdown",
      "metadata": {
        "id": "wug9VaWg2oy_"
      },
      "source": [
        "**FIRST LOOK**\n",
        "\n",
        "The data contains a mixed sample of students with a wide range of combined parent education levels over 2. We have only a few samples of students with a combined parent education level under 2. Our boxplot and lineplot shows a positive correlation between combined parent education and student performance. The outlier in the data is in students with a combined parent education of below 2 who seem to completely contridict this trend. This can be attributed to the low sample size of that group. \n",
        "\n"
      ]
    },
    {
      "cell_type": "code",
      "metadata": {
        "id": "Pno2anTN3EAW"
      },
      "source": [
        "# Creates a new column in the DataFrame that is True if either the father or mother has higher education as defined in the columns Medu and Fedu\n",
        "df['parent_higher_education'] = np.where((df['Medu'] == 4) | (df['Fedu'] == 4), True, False)"
      ],
      "execution_count": null,
      "outputs": []
    },
    {
      "cell_type": "code",
      "metadata": {
        "colab": {
          "base_uri": "https://localhost:8080/"
        },
        "id": "Wes_Z3xt5HCb",
        "outputId": "97e89bff-3a87-435f-e605-b1d3b2059fed"
      },
      "source": [
        "# Seperates the two samples into two DataFrames\n",
        "one_parent_higher_education = df.iloc[(df['parent_higher_education'] == True).values]\n",
        "no_parent_higher_education = df.iloc[(df['parent_higher_education'] == False).values]\n",
        "\n",
        "# Checks the count of unique values in our parent_higher_education column- we're checking to see if our sample size is big enough in each group to perform a independent t-test- we have enough\n",
        "df['parent_higher_education'].value_counts()"
      ],
      "execution_count": null,
      "outputs": [
        {
          "output_type": "execute_result",
          "data": {
            "text/plain": [
              "False    238\n",
              "True     157\n",
              "Name: parent_higher_education, dtype: int64"
            ]
          },
          "metadata": {
            "tags": []
          },
          "execution_count": 13
        }
      ]
    },
    {
      "cell_type": "code",
      "metadata": {
        "colab": {
          "base_uri": "https://localhost:8080/"
        },
        "id": "a-FkXdGC6J9S",
        "outputId": "d3037f32-bc85-4c23-abe5-0ab8fa6efd30"
      },
      "source": [
        "# Performs an independent-samples t-test on our two samples\n",
        "stats.ttest_ind(one_parent_higher_education['G3'], no_parent_higher_education['G3'])"
      ],
      "execution_count": null,
      "outputs": [
        {
          "output_type": "execute_result",
          "data": {
            "text/plain": [
              "Ttest_indResult(statistic=4.1401025080356195, pvalue=4.2509133132939754e-05)"
            ]
          },
          "metadata": {
            "tags": []
          },
          "execution_count": 14
        }
      ]
    },
    {
      "cell_type": "code",
      "metadata": {
        "colab": {
          "base_uri": "https://localhost:8080/",
          "height": 297
        },
        "id": "aG8d4OO2xxPm",
        "outputId": "09ef9014-c690-4906-f105-762a98a5fa01"
      },
      "source": [
        "# Visualizes the difference between the two samples in a barplot\n",
        "sns.barplot(x = 'parent_higher_education', y = 'G3', data = df)"
      ],
      "execution_count": null,
      "outputs": [
        {
          "output_type": "execute_result",
          "data": {
            "text/plain": [
              "<matplotlib.axes._subplots.AxesSubplot at 0x7f08b717d150>"
            ]
          },
          "metadata": {
            "tags": []
          },
          "execution_count": 15
        },
        {
          "output_type": "display_data",
          "data": {
            "image/png": "[encoded data removed]",
            "text/plain": [
              "<Figure size 432x288 with 1 Axes>"
            ]
          },
          "metadata": {
            "tags": [],
            "needs_background": "light"
          }
        }
      ]
    },
    {
      "cell_type": "markdown",
      "metadata": {
        "id": "tTdtN_tR7F96"
      },
      "source": [
        "**HYPOTHESIS TEST CONCLUSION**\n",
        "\n",
        "Our p-value of 4.2509e-.05 is LOWER than our significance level of .05\n",
        "\n",
        "Our t-statistic of 4.14 is HIGHER than 1.96\n",
        "\n",
        "We can REJECT the null hypothesis and ACCEPT the alternative hypothesis\n"
      ]
    },
    {
      "cell_type": "markdown",
      "metadata": {
        "id": "k-IM-AWEo_7o"
      },
      "source": [
        "# Hypothesis Testing #2\n",
        "H0: There is no difference in academic performance between students with over two hours of weekly study time and students with two hours or less of weekly study time.\n",
        "\n",
        "H1: Students with over two hours of weekly study time perform better than students with two hours or less of weekly study time. \n",
        " \n",
        "Significance Level: .05\n",
        "\n",
        "Test Statistic: 1.96\n"
      ]
    },
    {
      "cell_type": "markdown",
      "metadata": {
        "id": "1k8uRSEd8Lph"
      },
      "source": [
        "**STUDYTIME SCALE**\n",
        "\n",
        "Students in our sample have a studytime between 0 and 4 hours per week"
      ]
    },
    {
      "cell_type": "code",
      "metadata": {
        "colab": {
          "base_uri": "https://localhost:8080/",
          "height": 386
        },
        "id": "_13V_xFC0F8U",
        "outputId": "c11cf1ba-0b40-4638-f997-d4acff68919e"
      },
      "source": [
        "# Visualize the distribution of student study hours\n",
        "sns.displot(df['studytime'], bins = 4)"
      ],
      "execution_count": null,
      "outputs": [
        {
          "output_type": "execute_result",
          "data": {
            "text/plain": [
              "<seaborn.axisgrid.FacetGrid at 0x7f08b71564d0>"
            ]
          },
          "metadata": {
            "tags": []
          },
          "execution_count": 16
        },
        {
          "output_type": "display_data",
          "data": {
            "image/png": "[encoded data removed]",
            "text/plain": [
              "<Figure size 360x360 with 1 Axes>"
            ]
          },
          "metadata": {
            "tags": [],
            "needs_background": "light"
          }
        }
      ]
    },
    {
      "cell_type": "code",
      "metadata": {
        "colab": {
          "base_uri": "https://localhost:8080/",
          "height": 296
        },
        "id": "cC_KXO_B0nCH",
        "outputId": "83eb3e90-abf7-446b-d5ee-cff13d59d169"
      },
      "source": [
        "sns.boxplot(x = 'studytime', y = 'G3', data = df)"
      ],
      "execution_count": null,
      "outputs": [
        {
          "output_type": "execute_result",
          "data": {
            "text/plain": [
              "<matplotlib.axes._subplots.AxesSubplot at 0x7f08b7049610>"
            ]
          },
          "metadata": {
            "tags": []
          },
          "execution_count": 17
        },
        {
          "output_type": "display_data",
          "data": {
            "image/png": "[encoded data removed]",
            "text/plain": [
              "<Figure size 432x288 with 1 Axes>"
            ]
          },
          "metadata": {
            "tags": [],
            "needs_background": "light"
          }
        }
      ]
    },
    {
      "cell_type": "markdown",
      "metadata": {
        "id": "9Mh_hber8dxp"
      },
      "source": [
        "**FIRST LOOK**\n",
        "\n",
        "A majority of our sample is on the lower end of studytime, but we have a big enough sample size across the board. Our boxplot visualization shows a general positive correlation between studytime and student performance"
      ]
    },
    {
      "cell_type": "code",
      "metadata": {
        "colab": {
          "base_uri": "https://localhost:8080/"
        },
        "id": "9F2ZnnRapIII",
        "outputId": "987f92d5-4f39-4100-d758-ecd9653eab71"
      },
      "source": [
        "# Seperates the two samples into two DataFrames\n",
        "study_time_over_two = df.iloc[(df['studytime'] > 2).values]\n",
        "study_time_under_two = df.iloc[(df['studytime'] <= 2).values]\n",
        "\n",
        "# Checks the count of unique values in the studytime column- we're checking to see if our sample size is big enough in each group to perform a independent t-test- we have enough\n",
        "df['studytime'].value_counts()"
      ],
      "execution_count": null,
      "outputs": [
        {
          "output_type": "execute_result",
          "data": {
            "text/plain": [
              "2    198\n",
              "1    105\n",
              "3     65\n",
              "4     27\n",
              "Name: studytime, dtype: int64"
            ]
          },
          "metadata": {
            "tags": []
          },
          "execution_count": 18
        }
      ]
    },
    {
      "cell_type": "code",
      "metadata": {
        "colab": {
          "base_uri": "https://localhost:8080/"
        },
        "id": "P1LneZiVprhK",
        "outputId": "281cee15-b63d-4784-e81e-ba792ed73042"
      },
      "source": [
        "stats.ttest_ind(study_time_over_two['G3'], study_time_under_two['G3'])"
      ],
      "execution_count": null,
      "outputs": [
        {
          "output_type": "execute_result",
          "data": {
            "text/plain": [
              "Ttest_indResult(statistic=2.2671657821810296, pvalue=0.02392264711546323)"
            ]
          },
          "metadata": {
            "tags": []
          },
          "execution_count": 19
        }
      ]
    },
    {
      "cell_type": "code",
      "metadata": {
        "colab": {
          "base_uri": "https://localhost:8080/",
          "height": 296
        },
        "id": "WMVqVHIv1C0m",
        "outputId": "10ae963c-bb43-49b7-88f8-2fa26ce36622"
      },
      "source": [
        "# Visualizes the difference in grades by studyhours\n",
        "sns.barplot(x = 'studytime', y = 'G3', data = df)"
      ],
      "execution_count": null,
      "outputs": [
        {
          "output_type": "execute_result",
          "data": {
            "text/plain": [
              "<matplotlib.axes._subplots.AxesSubplot at 0x7f08b6f91a90>"
            ]
          },
          "metadata": {
            "tags": []
          },
          "execution_count": 20
        },
        {
          "output_type": "display_data",
          "data": {
            "image/png": "[encoded data removed]",
            "text/plain": [
              "<Figure size 432x288 with 1 Axes>"
            ]
          },
          "metadata": {
            "tags": [],
            "needs_background": "light"
          }
        }
      ]
    },
    {
      "cell_type": "markdown",
      "metadata": {
        "id": "oDu59yx79GqD"
      },
      "source": [
        "**HYPOTHESIS TEST CONCLUSION**\n",
        "\n",
        "Our p-value of 0.023 is LOWER than our significance level of .05\n",
        "\n",
        "Our t-statistic of 2.2671 is HIGHER than 1.96\n",
        "\n",
        "We can REJECT the null hypothesis and ACCEPT the alternative hypothesis"
      ]
    },
    {
      "cell_type": "markdown",
      "metadata": {
        "id": "_gi4bKSi_RFs"
      },
      "source": [
        "# Hypothesis Test #3\n",
        "H0: There is no difference in academic performance between students participating in an extracurricular activity and students not participating in an extracurricular activity\n",
        "\n",
        "H1: Students participating in an extracurricular activity perform better than students whom do not participate in an extracurricular activity\n",
        "\n",
        "\n"
      ]
    },
    {
      "cell_type": "code",
      "metadata": {
        "colab": {
          "base_uri": "https://localhost:8080/",
          "height": 386
        },
        "id": "ghdhLndc1PWD",
        "outputId": "bf9594ea-0e08-486d-a501-37a976a5a5c9"
      },
      "source": [
        "# Visualizes the distribution of students who particpate in extracurrircular activities\n",
        "sns.displot(df['activities'])"
      ],
      "execution_count": null,
      "outputs": [
        {
          "output_type": "execute_result",
          "data": {
            "text/plain": [
              "<seaborn.axisgrid.FacetGrid at 0x7f08b6f79510>"
            ]
          },
          "metadata": {
            "tags": []
          },
          "execution_count": 21
        },
        {
          "output_type": "display_data",
          "data": {
            "image/png": "[encoded data removed]",
            "text/plain": [
              "<Figure size 360x360 with 1 Axes>"
            ]
          },
          "metadata": {
            "tags": [],
            "needs_background": "light"
          }
        }
      ]
    },
    {
      "cell_type": "code",
      "metadata": {
        "colab": {
          "base_uri": "https://localhost:8080/",
          "height": 296
        },
        "id": "WqhGmn541jOX",
        "outputId": "4681dfc8-7087-441a-bf78-7b344e1c19d5"
      },
      "source": [
        "sns.boxplot(x = 'activities', y = 'G3', data = df)"
      ],
      "execution_count": null,
      "outputs": [
        {
          "output_type": "execute_result",
          "data": {
            "text/plain": [
              "<matplotlib.axes._subplots.AxesSubplot at 0x7f08b6ee2e90>"
            ]
          },
          "metadata": {
            "tags": []
          },
          "execution_count": 22
        },
        {
          "output_type": "display_data",
          "data": {
            "image/png": "[encoded data removed]",
            "text/plain": [
              "<Figure size 432x288 with 1 Axes>"
            ]
          },
          "metadata": {
            "tags": [],
            "needs_background": "light"
          }
        }
      ]
    },
    {
      "cell_type": "markdown",
      "metadata": {
        "id": "-Dn4tmej9amn"
      },
      "source": [
        "**FIRST LOOK**\n",
        "\n",
        "We have an almost equal distribution between students who participate in extracurriculars and students who dont. Our boxplot shows that students who participate in extracurricular activities have a very slight performance edge to students who dont."
      ]
    },
    {
      "cell_type": "code",
      "metadata": {
        "id": "VvvthG_N_Ywm",
        "colab": {
          "base_uri": "https://localhost:8080/"
        },
        "outputId": "24eb8842-361a-4586-8b7b-d7f441734fc3"
      },
      "source": [
        "# Seperates the two samples into two DataFrames\n",
        "extracurricular = df.iloc[(df['activities'] == 'yes').values]\n",
        "no_extracurricular = df.iloc[(df['activities'] == 'no').values]\n",
        "\n",
        "# Checks the count of unique values in the activities column- we're checking to see if our sample size is big enough in each group to perform a independent t-test- we have enough\n",
        "df['activities'].value_counts()"
      ],
      "execution_count": null,
      "outputs": [
        {
          "output_type": "execute_result",
          "data": {
            "text/plain": [
              "yes    201\n",
              "no     194\n",
              "Name: activities, dtype: int64"
            ]
          },
          "metadata": {
            "tags": []
          },
          "execution_count": 23
        }
      ]
    },
    {
      "cell_type": "code",
      "metadata": {
        "colab": {
          "base_uri": "https://localhost:8080/"
        },
        "id": "yDjrkVehoo8V",
        "outputId": "5f12320c-5fca-4790-fcc2-67f4aeaf265a"
      },
      "source": [
        "# We do an independent-samples t-test on our two samples\n",
        "stats.ttest_ind(extracurricular['G3'], no_extracurricular['G3'])"
      ],
      "execution_count": null,
      "outputs": [
        {
          "output_type": "execute_result",
          "data": {
            "text/plain": [
              "Ttest_indResult(statistic=0.319205514582678, pvalue=0.7497402737748432)"
            ]
          },
          "metadata": {
            "tags": []
          },
          "execution_count": 24
        }
      ]
    },
    {
      "cell_type": "code",
      "metadata": {
        "colab": {
          "base_uri": "https://localhost:8080/",
          "height": 296
        },
        "id": "ErReM_HQF8AW",
        "outputId": "1293f62d-f2dd-4ea3-a9ca-e36503b3e0b1"
      },
      "source": [
        "sns.barplot(x = 'activities', y = 'G3', data = df)"
      ],
      "execution_count": null,
      "outputs": [
        {
          "output_type": "execute_result",
          "data": {
            "text/plain": [
              "<matplotlib.axes._subplots.AxesSubplot at 0x7f08b6e82990>"
            ]
          },
          "metadata": {
            "tags": []
          },
          "execution_count": 25
        },
        {
          "output_type": "display_data",
          "data": {
            "image/png": "[encoded data removed]",
            "text/plain": [
              "<Figure size 432x288 with 1 Axes>"
            ]
          },
          "metadata": {
            "tags": [],
            "needs_background": "light"
          }
        }
      ]
    },
    {
      "cell_type": "markdown",
      "metadata": {
        "id": "TghE55TR-V86"
      },
      "source": [
        "**HYPOTHESIS TEST CONCLUSION**\n",
        "\n",
        "Our p-value of 0.7497 is HIGHER than our significance level of .05\n",
        "\n",
        "Our t-statistic of 0.319 is LOWER than 1.96\n",
        "\n",
        "We can ACCEPT the null hypothesis and REJECT the alternative hypothesis"
      ]
    },
    {
      "cell_type": "code",
      "metadata": {
        "id": "MJn9QRXi-vl0"
      },
      "source": [
        ""
      ],
      "execution_count": null,
      "outputs": []
    },
    {
      "cell_type": "markdown",
      "metadata": {
        "id": "Q-NDZNoh-7Rg"
      },
      "source": [
        "# Final Conclusions\n",
        "\n",
        "**Hypothesis Test #1:** We accept that alternative hypothesis that students with at least one parent with higher education perform better than students with no parents with higher education.\n",
        "\n",
        "**Hypothesis Test #2:** We accept the alternative hypothesis that students with over two hours of weekly study time perform better than students with two hours or less of weekly study time.\n",
        "\n",
        "**Hypothesis Test #3:** We accept the null hypothesis that there is no difference in academic performance between students participating in an extracurricular activity and students who do not."
      ]
    },
    {
      "cell_type": "markdown",
      "metadata": {
        "id": "2kpTYggZAj5f"
      },
      "source": [
        "# Recommendations\n",
        "\n",
        "1. Students with higher educated parents perform better than students without higher educated parents. This is probably due to the one on one help higher educated parents are able to provide to their children. Lower educated parents should suppliment their childs school education with other learning resources to give their children additional sources of education. Schools should offer additional learning resources to students. Businesses should invest in developing affordable educational resources for students who need more one on one help that some parents are not able to provide to their children.\n",
        "\n",
        "2. Students who study more than two hours weekly perform better than students who study two or less hours every week. Parents should encourage their children to study for a set period of time every week. Schools should host study sessions with teacher supervision to help students. Businesses can create and sell study resources that help make study time more efficient."
      ]
    }
  ]
}